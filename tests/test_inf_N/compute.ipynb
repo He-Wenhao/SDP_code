{
 "cells": [
  {
   "cell_type": "code",
   "execution_count": 14,
   "metadata": {},
   "outputs": [],
   "source": [
    "import os\n",
    "import sys\n",
    "sys.path.append('../..')\n",
    "from GKP_ampDamp import *\n",
    "from constants import *\n",
    "import numpy as np"
   ]
  },
  {
   "cell_type": "code",
   "execution_count": 15,
   "metadata": {},
   "outputs": [
    {
     "name": "stdout",
     "output_type": "stream",
     "text": [
      "Delta = 0.05\n",
      "n_Delta = 199.5004166664972\n",
      "gamma list: [0.01]\n"
     ]
    }
   ],
   "source": [
    "Delta = 0.05\n",
    "print('Delta =',Delta)\n",
    "n_D = comp_n_Delta(Delta)\n",
    "print('n_Delta =',n_D)\n",
    "gamma_lst = [0.01]\n",
    "print('gamma list:',list(gamma_lst))\n"
   ]
  },
  {
   "cell_type": "markdown",
   "metadata": {},
   "source": [
    "compute transpose infidelity directly"
   ]
  },
  {
   "cell_type": "code",
   "execution_count": 17,
   "metadata": {},
   "outputs": [
    {
     "ename": "RuntimeWarning",
     "evalue": "overflow encountered in cdouble_scalars",
     "output_type": "error",
     "traceback": [
      "\u001b[0;31m---------------------------------------------------------------------------\u001b[0m",
      "\u001b[0;31mRuntimeWarning\u001b[0m                            Traceback (most recent call last)",
      "\u001b[1;32m/Users/hewenhao/Desktop/Liang/numerical/SDP/tests/test_inf_N/compute.ipynb Cell 4\u001b[0m in \u001b[0;36m<cell line: 6>\u001b[0;34m()\u001b[0m\n\u001b[1;32m      <a href='vscode-notebook-cell:/Users/hewenhao/Desktop/Liang/numerical/SDP/tests/test_inf_N/compute.ipynb#W3sZmlsZQ%3D%3D?line=8'>9</a>\u001b[0m \u001b[39mif\u001b[39;00m \u001b[39m1\u001b[39m:\n\u001b[1;32m     <a href='vscode-notebook-cell:/Users/hewenhao/Desktop/Liang/numerical/SDP/tests/test_inf_N/compute.ipynb#W3sZmlsZQ%3D%3D?line=9'>10</a>\u001b[0m     ck \u001b[39m=\u001b[39m check_basis(ElmuBasis \u001b[39m=\u001b[39m ElmuBasis,nBasis \u001b[39m=\u001b[39m \u001b[39mNone\u001b[39;00m)\n\u001b[0;32m---> <a href='vscode-notebook-cell:/Users/hewenhao/Desktop/Liang/numerical/SDP/tests/test_inf_N/compute.ipynb#W3sZmlsZQ%3D%3D?line=10'>11</a>\u001b[0m     ck\u001b[39m.\u001b[39;49mtrM()\n\u001b[1;32m     <a href='vscode-notebook-cell:/Users/hewenhao/Desktop/Liang/numerical/SDP/tests/test_inf_N/compute.ipynb#W3sZmlsZQ%3D%3D?line=11'>12</a>\u001b[0m infid_M \u001b[39m=\u001b[39m ElmuBasis\u001b[39m.\u001b[39mtranspose_infid_M()\n\u001b[1;32m     <a href='vscode-notebook-cell:/Users/hewenhao/Desktop/Liang/numerical/SDP/tests/test_inf_N/compute.ipynb#W3sZmlsZQ%3D%3D?line=12'>13</a>\u001b[0m \u001b[39mprint\u001b[39m(\u001b[39mstr\u001b[39m(infid_M))\n",
      "File \u001b[0;32m~/Desktop/Liang/numerical/SDP/GKP_ampDamp.py:321\u001b[0m, in \u001b[0;36mcheck_basis.trM\u001b[0;34m(self)\u001b[0m\n\u001b[1;32m    320\u001b[0m \u001b[39mdef\u001b[39;00m \u001b[39mtrM\u001b[39m(\u001b[39mself\u001b[39m):\n\u001b[0;32m--> 321\u001b[0m     Elmu_M \u001b[39m=\u001b[39m \u001b[39mself\u001b[39;49m\u001b[39m.\u001b[39;49mElmu\u001b[39m.\u001b[39;49morth_M()\n\u001b[1;32m    322\u001b[0m     \u001b[39mprint\u001b[39m(\u001b[39m'\u001b[39m\u001b[39mtr(M)-2 =\u001b[39m\u001b[39m'\u001b[39m,Elmu_M\u001b[39m.\u001b[39mtrace()[\u001b[39m0\u001b[39m,\u001b[39m0\u001b[39m]\u001b[39m-\u001b[39m\u001b[39m2\u001b[39m)\n",
      "File \u001b[0;32m~/Desktop/Liang/numerical/SDP/GKP_ampDamp.py:97\u001b[0m, in \u001b[0;36mGKP_ElmuBasis.orth_M\u001b[0;34m(self)\u001b[0m\n\u001b[1;32m     95\u001b[0m Delta \u001b[39m=\u001b[39m \u001b[39mself\u001b[39m\u001b[39m.\u001b[39mDelta\n\u001b[1;32m     96\u001b[0m gamma \u001b[39m=\u001b[39m \u001b[39mself\u001b[39m\u001b[39m.\u001b[39mgamma\n\u001b[0;32m---> 97\u001b[0m Mmat \u001b[39m=\u001b[39m \u001b[39mself\u001b[39;49m\u001b[39m.\u001b[39;49m_M()\n\u001b[1;32m     98\u001b[0m mmat \u001b[39m=\u001b[39m \u001b[39mself\u001b[39m\u001b[39m.\u001b[39mm()\n\u001b[1;32m     99\u001b[0m u, s, vh \u001b[39m=\u001b[39m np\u001b[39m.\u001b[39mlinalg\u001b[39m.\u001b[39msvd(mmat, full_matrices\u001b[39m=\u001b[39m\u001b[39mTrue\u001b[39;00m)\n",
      "File \u001b[0;32m~/Desktop/Liang/numerical/SDP/GKP_ampDamp.py:67\u001b[0m, in \u001b[0;36mGKP_ElmuBasis._M\u001b[0;34m(self, keep_real)\u001b[0m\n\u001b[1;32m     65\u001b[0m \u001b[39mfor\u001b[39;00m i \u001b[39min\u001b[39;00m \u001b[39mrange\u001b[39m(\u001b[39m2\u001b[39m\u001b[39m*\u001b[39ml_cutoff):\n\u001b[1;32m     66\u001b[0m     \u001b[39mfor\u001b[39;00m j \u001b[39min\u001b[39;00m \u001b[39mrange\u001b[39m(\u001b[39m2\u001b[39m\u001b[39m*\u001b[39ml_cutoff):\n\u001b[0;32m---> 67\u001b[0m         res[i,j] \u001b[39m=\u001b[39m M_ele(sum_cutoff, i\u001b[39m/\u001b[39;49m\u001b[39m/\u001b[39;49m\u001b[39m2\u001b[39;49m, i\u001b[39m%\u001b[39;49m\u001b[39m2\u001b[39;49m, j\u001b[39m/\u001b[39;49m\u001b[39m/\u001b[39;49m\u001b[39m2\u001b[39;49m, j\u001b[39m%\u001b[39;49m\u001b[39m2\u001b[39;49m)\n\u001b[1;32m     68\u001b[0m \u001b[39m# keep only real part\u001b[39;00m\n\u001b[1;32m     69\u001b[0m \u001b[39mif\u001b[39;00m keep_real \u001b[39m==\u001b[39m \u001b[39mTrue\u001b[39;00m:\n",
      "File \u001b[0;32m~/Desktop/Liang/numerical/SDP/GKP_ampDamp.py:62\u001b[0m, in \u001b[0;36mGKP_ElmuBasis._M.<locals>.M_ele\u001b[0;34m(cutoff, l, mu, lp, mup)\u001b[0m\n\u001b[1;32m     60\u001b[0m         Lambda \u001b[39m=\u001b[39m sqrt(pi\u001b[39m/\u001b[39m\u001b[39m2\u001b[39m)\u001b[39m*\u001b[39m(\u001b[39m2\u001b[39m\u001b[39m*\u001b[39mn1\u001b[39m+\u001b[39mmu\u001b[39m-\u001b[39mmup\u001b[39m+\u001b[39mn2\u001b[39m*\u001b[39m\u001b[39m1.\u001b[39mj)\n\u001b[1;32m     61\u001b[0m         alpha \u001b[39m=\u001b[39m exp(Delta\u001b[39m*\u001b[39m\u001b[39m*\u001b[39m\u001b[39m2\u001b[39m)\u001b[39m/\u001b[39msqrt(gamma\u001b[39m+\u001b[39m\u001b[39m1\u001b[39m\u001b[39m/\u001b[39mn_D)\u001b[39m*\u001b[39mconj(Lambda)\n\u001b[0;32m---> 62\u001b[0m         lDl \u001b[39m=\u001b[39m \u001b[39mself\u001b[39;49m\u001b[39m.\u001b[39;49m_lDl(l,lp,alpha)\n\u001b[1;32m     63\u001b[0m         res \u001b[39m+\u001b[39m\u001b[39m=\u001b[39m exp(\u001b[39m-\u001b[39m(\u001b[39m1\u001b[39m\u001b[39m-\u001b[39mgamma)\u001b[39m/\u001b[39m\u001b[39m2\u001b[39m\u001b[39m/\u001b[39m(gamma\u001b[39m+\u001b[39m\u001b[39m1\u001b[39m\u001b[39m/\u001b[39mn_D)\u001b[39m*\u001b[39m\u001b[39mabs\u001b[39m(Lambda)\u001b[39m*\u001b[39m\u001b[39m*\u001b[39m\u001b[39m2\u001b[39m)\u001b[39m*\u001b[39mexp(\u001b[39m1.\u001b[39mj\u001b[39m*\u001b[39mpi\u001b[39m*\u001b[39m(n1\u001b[39m+\u001b[39m(mu\u001b[39m+\u001b[39mmup)\u001b[39m/\u001b[39m\u001b[39m2\u001b[39m)\u001b[39m*\u001b[39mn2)\u001b[39m*\u001b[39mlDl\n\u001b[1;32m     64\u001b[0m \u001b[39mreturn\u001b[39;00m (factor\u001b[39m*\u001b[39mres)\u001b[39m.\u001b[39mreal\n",
      "File \u001b[0;32m~/Desktop/Liang/numerical/SDP/GKP_ampDamp.py:42\u001b[0m, in \u001b[0;36mGKP_ElmuBasis._lDl\u001b[0;34m(self, l, lp, alpha)\u001b[0m\n\u001b[1;32m     41\u001b[0m \u001b[39mdef\u001b[39;00m \u001b[39m_lDl\u001b[39m(\u001b[39mself\u001b[39m,l,lp,alpha):\n\u001b[0;32m---> 42\u001b[0m     \u001b[39mreturn\u001b[39;00m lDl(l,lp,alpha)\n",
      "File \u001b[0;32m~/Desktop/Liang/numerical/SDP/constants.py:47\u001b[0m, in \u001b[0;36mlDl\u001b[0;34m(l, lp, alpha)\u001b[0m\n\u001b[1;32m     45\u001b[0m if l>=lp:\n\u001b[1;32m     46\u001b[0m     res = exp(-abs(alpha)**2/2)*sqrt(exp(loggamma(lp+1)-loggamma(l+1)))*eval_genlaguerre(lp,l-lp,abs(alpha)**2)*alpha**(l-lp)\n\u001b[0;32m---> 47\u001b[0m else:\n\u001b[1;32m     48\u001b[0m     l,lp=lp,l\n\u001b[1;32m     49\u001b[0m     res = lDl(l,lp,alpha)\n",
      "File \u001b[0;32m~/Desktop/Liang/numerical/SDP/constants.py:44\u001b[0m, in \u001b[0;36mlDl\u001b[0;34m(l, lp, alpha)\u001b[0m\n\u001b[1;32m     41\u001b[0m \u001b[39mdef\u001b[39;00m \u001b[39mmy_eval_genlaguerre\u001b[39m(n,a,x):\n\u001b[1;32m     42\u001b[0m     \u001b[39mreturn\u001b[39;00m eval_genlaguerre(n,a,x)\n\u001b[0;32m---> 44\u001b[0m \u001b[39mdef\u001b[39;00m \u001b[39mlDl\u001b[39m(l,lp,alpha):\n\u001b[1;32m     45\u001b[0m     \u001b[39mif\u001b[39;00m l\u001b[39m>\u001b[39m\u001b[39m=\u001b[39mlp:\n\u001b[1;32m     46\u001b[0m         res \u001b[39m=\u001b[39m exp(\u001b[39m-\u001b[39m\u001b[39mabs\u001b[39m(alpha)\u001b[39m*\u001b[39m\u001b[39m*\u001b[39m\u001b[39m2\u001b[39m\u001b[39m/\u001b[39m\u001b[39m2\u001b[39m)\u001b[39m*\u001b[39msqrt(exp(loggamma(lp\u001b[39m+\u001b[39m\u001b[39m1\u001b[39m)\u001b[39m-\u001b[39mloggamma(l\u001b[39m+\u001b[39m\u001b[39m1\u001b[39m)))\u001b[39m*\u001b[39meval_genlaguerre(lp,l\u001b[39m-\u001b[39mlp,\u001b[39mabs\u001b[39m(alpha)\u001b[39m*\u001b[39m\u001b[39m*\u001b[39m\u001b[39m2\u001b[39m)\u001b[39m*\u001b[39malpha\u001b[39m*\u001b[39m\u001b[39m*\u001b[39m(l\u001b[39m-\u001b[39mlp)\n",
      "\u001b[0;31mRuntimeWarning\u001b[0m: overflow encountered in cdouble_scalars"
     ]
    }
   ],
   "source": [
    "\n",
    "dimL=400\n",
    "M_cutoff = 5\n",
    "m_cutoff = 20\n",
    "infid_M_lst = []\n",
    "for gamma in gamma_lst:\n",
    "    ElmuBasis = GKP_ElmuBasis(Delta = Delta, gamma = gamma, m_sum_cutoff=m_cutoff,M_sum_cutoff=M_cutoff,l_cut=dimL)\n",
    "    # check\n",
    "    if 1:\n",
    "        ck = check_basis(ElmuBasis = ElmuBasis,nBasis = None)\n",
    "        ck.trM()\n",
    "    infid_M = ElmuBasis.transpose_infid_M()\n",
    "    print(str(infid_M))\n",
    "    infid_M_lst.append(infid_M)\n",
    "print('infid_M_lst =',infid_M_lst)\n"
   ]
  }
 ],
 "metadata": {
  "kernelspec": {
   "display_name": "Python 3.8.8 ('base')",
   "language": "python",
   "name": "python3"
  },
  "language_info": {
   "codemirror_mode": {
    "name": "ipython",
    "version": 3
   },
   "file_extension": ".py",
   "mimetype": "text/x-python",
   "name": "python",
   "nbconvert_exporter": "python",
   "pygments_lexer": "ipython3",
   "version": "3.8.8"
  },
  "orig_nbformat": 4,
  "vscode": {
   "interpreter": {
    "hash": "651dcc853ead57c5e7bf768e4c673fd7c2c98c51a9793aed9412e5eb8a1bb026"
   }
  }
 },
 "nbformat": 4,
 "nbformat_minor": 2
}
