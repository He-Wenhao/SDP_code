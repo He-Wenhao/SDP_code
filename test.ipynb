{
 "cells": [
  {
   "cell_type": "code",
   "execution_count": 2,
   "metadata": {},
   "outputs": [
    {
     "name": "stdout",
     "output_type": "stream",
     "text": [
      "===============================================================================\n",
      "                                     CVXPY                                     \n",
      "                                     v1.2.1                                    \n",
      "===============================================================================\n",
      "(CVXPY) Oct 06 09:35:26 PM: Your problem has 10000 variables, 0 constraints, and 0 parameters.\n",
      "(CVXPY) Oct 06 09:35:26 PM: It is compliant with the following grammars: DCP, DQCP\n",
      "(CVXPY) Oct 06 09:35:26 PM: (If you need to solve this problem multiple times, but with different data, consider using parameters.)\n",
      "(CVXPY) Oct 06 09:35:26 PM: CVXPY will first compile your problem; then, it will invoke a numerical solver to obtain a solution.\n",
      "-------------------------------------------------------------------------------\n",
      "                                  Compilation                                  \n",
      "-------------------------------------------------------------------------------\n",
      "(CVXPY) Oct 06 09:35:26 PM: Compiling problem (target solver=SCS).\n",
      "(CVXPY) Oct 06 09:35:26 PM: Reduction chain: Dcp2Cone -> CvxAttr2Constr -> ConeMatrixStuffing -> SCS\n",
      "(CVXPY) Oct 06 09:35:26 PM: Applying reduction Dcp2Cone\n",
      "(CVXPY) Oct 06 09:35:26 PM: Applying reduction CvxAttr2Constr\n",
      "(CVXPY) Oct 06 09:35:26 PM: Applying reduction ConeMatrixStuffing\n",
      "(CVXPY) Oct 06 09:35:26 PM: Applying reduction SCS\n",
      "(CVXPY) Oct 06 09:35:26 PM: Finished problem compilation (took 1.549e-01 seconds).\n",
      "-------------------------------------------------------------------------------\n",
      "                                Numerical solver                               \n",
      "-------------------------------------------------------------------------------\n",
      "(CVXPY) Oct 06 09:35:26 PM: Invoking solver SCS  to obtain a solution.\n",
      "------------------------------------------------------------------\n",
      "\t       SCS v3.2.0 - Splitting Conic Solver\n",
      "\t(c) Brendan O'Donoghue, Stanford University, 2012\n",
      "------------------------------------------------------------------\n",
      "problem:  variables n: 10001, constraints m: 20100\n",
      "cones: \t  s: psd vars: 20100, ssize: 1\n",
      "settings: eps_abs: 1.0e-05, eps_rel: 1.0e-05, eps_infeas: 1.0e-07\n",
      "\t  alpha: 1.50, scale: 1.00e-01, adaptive_scale: 1\n",
      "\t  max_iters: 100000, normalize: 1, rho_x: 1.00e-06\n",
      "\t  acceleration_lookback: 10, acceleration_interval: 10\n",
      "lin-sys:  sparse-direct\n",
      "\t  nnz(A): 10200, nnz(P): 0\n",
      "------------------------------------------------------------------\n",
      " iter | pri res | dua res |   gap   |   obj   |  scale  | time (s)\n",
      "------------------------------------------------------------------\n",
      "     0| 1.41e+00  1.00e+00  8.11e-02 -3.12e-02  1.00e-01  1.85e-01 \n",
      "    25| 8.21e-08  2.97e-08  9.28e-08  3.57e-08  1.00e-01  1.15e+00 \n",
      "------------------------------------------------------------------\n",
      "status:  solved\n",
      "timings: total: 1.35e+00s = setup: 1.95e-01s + solve: 1.15e+00s\n",
      "\t lin-sys: 1.84e-02s, cones: 1.07e+00s, accel: 2.58e-03s\n",
      "------------------------------------------------------------------\n",
      "objective = 0.000000\n",
      "------------------------------------------------------------------\n",
      "-------------------------------------------------------------------------------\n",
      "                                    Summary                                    \n",
      "-------------------------------------------------------------------------------\n",
      "(CVXPY) Oct 06 09:35:27 PM: Problem status: optimal\n",
      "(CVXPY) Oct 06 09:35:27 PM: Optimal value: 1.465e-06\n",
      "(CVXPY) Oct 06 09:35:27 PM: Compilation took 1.549e-01 seconds\n",
      "(CVXPY) Oct 06 09:35:27 PM: Solver (including time spent in interface) took 1.352e+00 seconds\n",
      "kkk 25\n",
      "2734.4644005056784 2483.4657431382093\n"
     ]
    }
   ],
   "source": [
    "import numpy as np\n",
    "import cvxpy as cp\n",
    "\n",
    "A0 = np.random.rand(100,100) #The initial value I want to set\n",
    "X = cp.Variable((100,100))\n",
    "B = np.random.rand(100,100)\n",
    "C = A0 + 0.1*np.random.rand(100,100)\n",
    "\n",
    "init_prob = cp.Problem(cp.Minimize(cp.norm(X-A0))) #A trivial problem with soln X = A0\n",
    "init_prob.variables()[0].save_value(A0) #Sets A0 to X\n",
    "init_prob._value = init_prob.objective.value #Sets the objective value to the new one\n",
    "init_prob.solve(verbose = True) #This will run exactly one iteration and generate a 'solution' object\n",
    "print('kkk',init_prob.solver_stats.num_iters)\n",
    "\n",
    "prob = cp.Problem(cp.Maximize(cp.trace(X@B)),constraints=[X-C<=0]) #A new problem with a constraint\n",
    "prob.unpack(init_prob.solution)\n",
    "#Since init_prob and prob have same variables, this will store the init_prob solution as the solution for prob\n",
    "prob.solve(warm_start=True)#This optimization will begin with initial value of X = A0\n",
    "\n",
    "print(prob.value, np.trace(A0@B)) #The former will be larger than the latter as it was maximized"
   ]
  }
 ],
 "metadata": {
  "kernelspec": {
   "display_name": "base",
   "language": "python",
   "name": "python3"
  },
  "language_info": {
   "codemirror_mode": {
    "name": "ipython",
    "version": 3
   },
   "file_extension": ".py",
   "mimetype": "text/x-python",
   "name": "python",
   "nbconvert_exporter": "python",
   "pygments_lexer": "ipython3",
   "version": "3.8.8"
  },
  "orig_nbformat": 4
 },
 "nbformat": 4,
 "nbformat_minor": 2
}
