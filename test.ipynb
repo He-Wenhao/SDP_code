{
 "cells": [
  {
   "cell_type": "markdown",
   "metadata": {},
   "source": [
    "# Error subspace SDP\n",
    "\n",
    "In this ipynb file, we implement SDP for optimal recovery. We consider entanglement fidelity\n",
    "\\begin{align}\n",
    "F_{\\mathcal{N}_\\gamma, \\mathcal{R}}=\\left\\langle\\Psi\\left|\\left(\\mathcal{R} \\circ \\mathcal{N}_\\gamma\\right) \\otimes \\mathcal{I}(|\\Psi\\rangle\\langle\\Psi|)\\right| \\Psi\\right\\rangle.\n",
    "\\end{align}\n",
    "\n",
    "SDP gives the optimal recodery\n",
    "\\begin{align}\n",
    "F_{\\mathcal{N}_\\gamma, \\mathcal{R}_{\\mathrm{op}}}=\\max _{\\mathcal{R}}\\left\\langle\\Psi\\left|\\left(\\mathcal{R} \\circ \\mathcal{N}_\\gamma\\right) \\otimes \\mathcal{I}(|\\Psi\\rangle\\langle\\Psi|)\\right| \\Psi\\right\\rangle\n",
    "\\end{align}\n",
    "\n",
    "Our implementation has following features:\n",
    "\n",
    "1. the SDP has only one input: the QEC matrix.\n",
    "\n",
    "2. the choi matrix is restricted on the error subspace. As a result, the choi matrix is $l*d*d$ dimensional, where l is the number of Kraus operators taken into consideration, $d=2$ for qubit code.\n",
    "\n",
    "Also, we provide the results of transpose channel. \n",
    "\\begin{align}\n",
    "\\mathcal{R}_T(\\cdot) \\equiv \\sum_i P E_i^{\\dagger} \\mathcal{N}_\\gamma(P)^{-1 / 2}(\\cdot) \\mathcal{N}_\\gamma(P)^{-1 / 2} E_i P\n",
    "\\end{align}\n",
    "Tranpose fidelity can serve as an approximation to the optimal fidelity, and transpose channel(in choi matrix form) serves as a good guess to optimized channel.\n",
    "\n",
    "# Next step\n",
    "\n",
    "1. use transpose channel as an initial guess to speed up solving SDP.\n",
    "2. when iterate through gamma = np.linspace(0,0.1,11), use previous result as initial guess."
   ]
  },
  {
   "cell_type": "code",
   "execution_count": 1,
   "metadata": {},
   "outputs": [],
   "source": [
    "import numpy as np\n",
    "from QECmat_GKP import QECmat_GKP\n",
    "from process_QECmat import process_QECmat\n"
   ]
  },
  {
   "cell_type": "markdown",
   "metadata": {},
   "source": [
    "# Construct QEC matrix\n",
    "Here we use Gaussian envelope finite energy GKP code under pure loss as an example, we use the series expansion algorithm.\n",
    "\n",
    "You can substitute it for other codes. The QEC matrix $M_{l,\\mu,l',\\mu'}$ should align as following(here we assume qubit code, and Kraus truncated by L):\n",
    "\n",
    "$\\left(\\begin{array}{cccc}M_{00,00} & M_{00,01} & . . & M_{00,L1} \\\\ M_{01,00} & M_{01,01} & . . & M_{01,L1} \\\\ & & . . & . . \\\\ . . & . . & . \\\\ M_{L1,00} & M_{L 1,01} & . . & M_{L1,L1}\\end{array}\\right)$"
   ]
  },
  {
   "cell_type": "code",
   "execution_count": 2,
   "metadata": {},
   "outputs": [],
   "source": [
    "####################\n",
    "# calculate QEC matrix for GKP\n",
    "####################\n",
    "gamma = 0.05    # pure loss rate\n",
    "Delta = 0.481   # 1/2 Delta^2 \\approx photon number\n",
    "l_cut = 20      # number of Kraus operator taken into consideration\n",
    "m_sum_cutoff=20 # accuracy order of basis overlap\n",
    "M_sum_cutoff=5  # accuracy order of QEC matrix\n",
    "\n",
    "# calculate GKP QEC matrix, with orthonormal code basis\n",
    "M_GKP = QECmat_GKP(Delta = Delta, gamma = gamma, l_cut = l_cut, m_sum_cutoff = m_sum_cutoff, M_sum_cutoff = M_sum_cutoff).orth_M()\n"
   ]
  },
  {
   "cell_type": "markdown",
   "metadata": {},
   "source": [
    "# tranpose channel\n",
    "\n",
    "According to our calculation, entanglement fidelity given by transpose channel is \n",
    "\\begin{align}\n",
    "F_{\\mathcal{N}_\\gamma, \\mathcal{R}_T}=\\frac{1}{4} \\sum_{l, l^{\\prime}}\\left(\\sum_\\mu\\left(\\left(M^{\\perp}\\right)^{\\frac{1}{2}}\\right)_{l, \\mu, l^{\\prime}, \\mu}\\right)^2,\n",
    "\\end{align}\n",
    "where $M^{\\perp}$ is the error correction matrix in orthonormal basis(which we denote as $M$ in following sections). The choi matrix of $\\mathcal{R}_T$ reads \n",
    "\\begin{align}\n",
    "(C_{\\mathcal{R}_T})_{\\nu,\\nu';l,\\mu,l',\\mu'} = \\delta_{l,l'}\\delta_{\\mu,\\nu}\\delta_{\\mu',\\nu'}\n",
    "\\end{align}\n",
    "in our problem setting.\n",
    "\n",
    "## code implementation\n",
    "In our code, initialization method of \n",
    "```ruby\n",
    "class process_QECmat\n",
    "``` \n",
    "takes matrix $M$ as an input,  method \n",
    "```ruby\n",
    "    def transpose_infid_M(self)\n",
    "``` \n",
    "calculates the infidelity according to our formula, and method\n",
    "```ruby\n",
    "    def tranpose_choi(self)\n",
    "``` \n",
    "calculates the choi matrix given by transpose recovery.\n",
    "\n",
    "To test the consistency, we show that infidelity given by our expression and by transpose choi matrix are the same."
   ]
  },
  {
   "cell_type": "code",
   "execution_count": 3,
   "metadata": {},
   "outputs": [
    {
     "name": "stdout",
     "output_type": "stream",
     "text": [
      "transpose infid direct: 0.005356332498326677\n",
      "transpose infid by choi: 0.005356332498326677\n"
     ]
    }
   ],
   "source": [
    "####################\n",
    "# calculate transpose results\n",
    "####################\n",
    "GKP_QECprocess = process_QECmat(QECmat = M_GKP,dimL = l_cut,d = 2)  # input GKP QEC matrix\n",
    "\n",
    "# calculate transpose fidelity result directly\n",
    "trans_infid = GKP_QECprocess.transpose_infid_M()\n",
    "print('transpose infid direct:',trans_infid)\n",
    "\n",
    "# calculate transpose choi matrix, and test consistency\n",
    "trans_choi = GKP_QECprocess.tranpose_choi()\n",
    "prob0 = GKP_QECprocess.SDP_set_prob()  # setup SDP problem\n",
    "prob0.variables()[0].save_value(trans_choi)# feed choi into the variable\n",
    "print('transpose infid by choi:',1-prob0.objective.value)"
   ]
  },
  {
   "cell_type": "markdown",
   "metadata": {},
   "source": [
    "# SDP optimization\n",
    "\n",
    "We can prove that SDP for optimal recovery channel can be written as\n",
    "\\begin{align}\n",
    "&\\max_{C_{\\mathcal{R}}}\\sum_{i,i',\\mu,\\mu',\\nu,\\nu'} (C_{\\mathcal{R}})_{\\nu,\\nu';i,\\mu,i',\\mu'}K_{\\nu,\\nu';i,\\mu,i',\\mu'}, \\\\\n",
    "&(C_{\\mathcal{R}})_{\\nu,\\nu';i,\\mu,i',\\mu'} \\ge 0, \\\\\n",
    "&\\sum_{\\nu}(C_{\\mathcal{R}})_{\\nu,\\nu;i,\\mu,i',\\mu'} = I_{i,\\mu,i',\\mu'},\n",
    "\\end{align}\n",
    "where $I$ is the identity matrix,  $K_{\\nu,\\nu';i,\\mu,i',\\mu'} = \\sum_{i_0,\\mu_0,\\nu_0}(M^{1/2})_{\\nu,\\nu_0;i,\\mu,i_0,\\mu_0}(M^{1/2})_{\\mu_0,\\nu';i_0,\\nu_0,i',\\mu'}$\n",
    "\n",
    "\n",
    "## code implementation\n",
    "\n",
    "Method \n",
    "```ruby\n",
    "    def SDP_set_prob(self)\n",
    "``` \n",
    "sets up the SDP problem and returns it. Using solve method in cvxpy, the problem will be solved."
   ]
  },
  {
   "cell_type": "code",
   "execution_count": 4,
   "metadata": {},
   "outputs": [
    {
     "name": "stdout",
     "output_type": "stream",
     "text": [
      "infid by SDP: 0.004812102153818998 iter: 1250\n"
     ]
    }
   ],
   "source": [
    "####################\n",
    "# SDP optimization\n",
    "####################\n",
    "\n",
    "prob1 = GKP_QECprocess.SDP_set_prob()  # setup SDP problem\n",
    "prob1.solve(eps=1e-6,verbose = True )   # solve SDP\n",
    "print('infid by SDP:',1-prob1.value,'iter:',prob1._solver_stats.num_iters)"
   ]
  },
  {
   "cell_type": "markdown",
   "metadata": {},
   "source": [
    "# more tests"
   ]
  },
  {
   "cell_type": "code",
   "execution_count": 5,
   "metadata": {},
   "outputs": [
    {
     "name": "stdout",
     "output_type": "stream",
     "text": [
      "--- gamma = 0.0\n",
      "transpose infid direct: 0.0\n",
      "transpose infid by choi: 1.1102230246251565e-16\n",
      "infid by SDP: -7.451016417192591e-07 iter: 75\n",
      "--- gamma = 0.01\n",
      "transpose infid direct: 0.0007032768163498515\n",
      "transpose infid by choi: 0.0007032768163499625\n",
      "infid by SDP: 0.0006820488410448355 iter: 1150\n",
      "--- gamma = 0.02\n",
      "transpose infid direct: 0.0015788792758916204\n",
      "transpose infid by choi: 0.0015788792758915093\n",
      "infid by SDP: 0.0014937535378350963 iter: 875\n",
      "--- gamma = 0.03\n",
      "transpose infid direct: 0.002638626255126786\n",
      "transpose infid by choi: 0.002638626255126786\n",
      "infid by SDP: 0.0024444214089310856 iter: 1800\n",
      "--- gamma = 0.04\n",
      "transpose infid direct: 0.00389402609116718\n",
      "transpose infid by choi: 0.00389402609116718\n",
      "infid by SDP: 0.003547022365070873 iter: 1750\n",
      "--- gamma = 0.05\n",
      "transpose infid direct: 0.005356332498326677\n",
      "transpose infid by choi: 0.005356332498326677\n",
      "infid by SDP: 0.004812102153818998 iter: 1250\n",
      "--- gamma = 0.06\n",
      "transpose infid direct: 0.007036571652058288\n",
      "transpose infid by choi: 0.007036571652058288\n",
      "infid by SDP: 0.006248305438328772 iter: 3150\n",
      "--- gamma = 0.07\n",
      "transpose infid direct: 0.008945546653718606\n",
      "transpose infid by choi: 0.008945546653718606\n",
      "infid by SDP: 0.007865011156022672 iter: 2425\n",
      "--- gamma = 0.08\n",
      "transpose infid direct: 0.011093824705170063\n",
      "transpose infid by choi: 0.011093824705169952\n",
      "infid by SDP: 0.00967626759366702 iter: 3700\n",
      "--- gamma = 0.09\n",
      "transpose infid direct: 0.013491711403480044\n",
      "transpose infid by choi: 0.013491711403480044\n",
      "infid by SDP: 0.011689647249674584 iter: 2400\n",
      "--- gamma = 0.1\n",
      "transpose infid direct: 0.016149215699942432\n",
      "transpose infid by choi: 0.016149215699942432\n",
      "infid by SDP: 0.01391231031555018 iter: 12450\n"
     ]
    }
   ],
   "source": [
    "for gamma in np.linspace(0,0.1,11):\n",
    "    ####################\n",
    "    # set parameters for GKP\n",
    "    ####################\n",
    "    print('--- gamma =',gamma)\n",
    "    Delta = 0.481\n",
    "    dimL=20\n",
    "    cutoff = 5\n",
    "    l_cut = 20\n",
    "    m_sum_cutoff=20\n",
    "    M_sum_cutoff=5\n",
    "    \n",
    "    n_cut = 40\n",
    "    i_cut = 10\n",
    "    eps = 1e-6\n",
    "    \n",
    "    ####################\n",
    "    # calculate QEC matrix for GKP\n",
    "    ####################\n",
    "    M_GKP = QECmat_GKP(Delta = Delta, gamma = gamma, l_cut = l_cut, m_sum_cutoff = m_sum_cutoff, M_sum_cutoff = M_sum_cutoff).orth_M()\n",
    "    \n",
    "    ####################\n",
    "    # calculate optimal/near optimal recovery\n",
    "    ####################\n",
    "    GKP_QECprocess = process_QECmat(QECmat = M_GKP,dimL = l_cut,d = 2)  # input GKP QEC matrix\n",
    "    \n",
    "    # calculate transpose fidelity result directly\n",
    "    trans_infid = GKP_QECprocess.transpose_infid_M()\n",
    "    print('transpose infid direct:',trans_infid)\n",
    "\n",
    "    # calculate transpose choi matrix, and test consistency\n",
    "    trans_choi = GKP_QECprocess.tranpose_choi()\n",
    "    prob0 = GKP_QECprocess.SDP_set_prob()  # setup SDP problem\n",
    "    prob0.variables()[0].save_value(trans_choi)# feed choi into the variable\n",
    "    print('transpose infid by choi:',1-prob0.objective.value)\n",
    "    \n",
    "\n",
    "    # do SDP optimization\n",
    "    prob1 = GKP_QECprocess.SDP_set_prob()  # setup SDP problem\n",
    "    prob1.solve(eps=eps,verbose = False)   # solve SDP\n",
    "    print('infid by SDP:',1-prob1.value,'iter:',prob1._solver_stats.num_iters)"
   ]
  }
 ],
 "metadata": {
  "kernelspec": {
   "display_name": "base",
   "language": "python",
   "name": "python3"
  },
  "language_info": {
   "codemirror_mode": {
    "name": "ipython",
    "version": 3
   },
   "file_extension": ".py",
   "mimetype": "text/x-python",
   "name": "python",
   "nbconvert_exporter": "python",
   "pygments_lexer": "ipython3",
   "version": "3.8.8"
  },
  "orig_nbformat": 4
 },
 "nbformat": 4,
 "nbformat_minor": 2
}
