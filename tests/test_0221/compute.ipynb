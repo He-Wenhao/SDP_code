{
 "cells": [
  {
   "cell_type": "code",
   "execution_count": 12,
   "metadata": {},
   "outputs": [],
   "source": [
    "import os\n",
    "import sys\n",
    "sys.path.append('../..')\n",
    "from GKP_ampDamp import *\n",
    "import numpy as np\n",
    "\n",
    "# in HPC\n",
    "import warnings\n",
    "warnings.filterwarnings('ignore', category=PendingDeprecationWarning)  "
   ]
  },
  {
   "cell_type": "code",
   "execution_count": 13,
   "metadata": {},
   "outputs": [
    {
     "name": "stdout",
     "output_type": "stream",
     "text": [
      "Delta = 0.221\n",
      "n_Delta = 9.745439501003897\n",
      "gamma list: [0.0, 0.01, 0.02, 0.03, 0.04, 0.05, 0.06, 0.07, 0.08, 0.09, 0.1]\n"
     ]
    }
   ],
   "source": [
    "Delta = 0.221\n",
    "print('Delta =',Delta)\n",
    "n_D = comp_n_Delta(Delta)\n",
    "print('n_Delta =',n_D)\n",
    "gamma_lst = np.linspace(0,0.1,11)\n",
    "print('gamma list:',list(gamma_lst))\n"
   ]
  },
  {
   "cell_type": "markdown",
   "metadata": {},
   "source": [
    "compute transpose infidelity directly"
   ]
  },
  {
   "cell_type": "code",
   "execution_count": 14,
   "metadata": {},
   "outputs": [
    {
     "name": "stdout",
     "output_type": "stream",
     "text": [
      "tr(M)-2 = 0.0\n",
      "0.0\n",
      "tr(M)-2 = 0.0\n",
      "9.476819329279351e-11\n",
      "tr(M)-2 = -6.661338147750939e-16\n",
      "3.7231956406813538e-09\n",
      "tr(M)-2 = -2.469136006766348e-13\n",
      "4.583141000047419e-08\n",
      "tr(M)-2 = -1.8159473924583835e-11\n",
      "3.0540574325055303e-07\n",
      "tr(M)-2 = -4.0611691787262316e-10\n",
      "1.3797328034526046e-06\n",
      "tr(M)-2 = -4.375199980088951e-09\n",
      "4.7598675868565365e-06\n",
      "tr(M)-2 = -2.894450612522803e-08\n",
      "1.3471790333174916e-05\n",
      "tr(M)-2 = -1.3559347666891597e-07\n",
      "3.27831956400404e-05\n",
      "tr(M)-2 = -4.922763263692786e-07\n",
      "7.085201620549153e-05\n",
      "tr(M)-2 = -1.4713720208892056e-06\n",
      "0.00013921027968910593\n",
      "infid_M_lst = [0.0, 9.476819329279351e-11, 3.7231956406813538e-09, 4.583141000047419e-08, 3.0540574325055303e-07, 1.3797328034526046e-06, 4.7598675868565365e-06, 1.3471790333174916e-05, 3.27831956400404e-05, 7.085201620549153e-05, 0.00013921027968910593]\n"
     ]
    }
   ],
   "source": [
    "\n",
    "dimL=40\n",
    "cutoff = 5\n",
    "infid_M_lst = []\n",
    "for gamma in gamma_lst:\n",
    "    ElmuBasis = GKP_ElmuBasis(Delta = Delta, gamma = gamma, m_sum_cutoff=20,M_sum_cutoff=5,l_cut=20)\n",
    "    # check\n",
    "    if 1:\n",
    "        ck = check_basis(ElmuBasis = ElmuBasis,nBasis = None)\n",
    "        ck.trM()\n",
    "    infid_M = ElmuBasis.transpose_infid_M()\n",
    "    print(str(infid_M))\n",
    "    infid_M_lst.append(infid_M)\n",
    "print('infid_M_lst =',infid_M_lst)\n"
   ]
  },
  {
   "cell_type": "markdown",
   "metadata": {},
   "source": [
    "SDP results"
   ]
  },
  {
   "cell_type": "code",
   "execution_count": 16,
   "metadata": {},
   "outputs": [
    {
     "name": "stdout",
     "output_type": "stream",
     "text": [
      "-1.0256018256882271e-11\n",
      "9.410532423870244e-06\n",
      "3.2210248127717556e-05\n",
      "6.520001698362421e-05\n",
      "0.00010658210599490126\n",
      "0.00015570993806601763\n"
     ]
    },
    {
     "ename": "UserWarning",
     "evalue": "Solution may be inaccurate. Try another solver, adjusting the solver settings, or solve with verbose=True for more information.",
     "output_type": "error",
     "traceback": [
      "\u001b[0;31m---------------------------------------------------------------------------\u001b[0m",
      "\u001b[0;31mUserWarning\u001b[0m                               Traceback (most recent call last)",
      "Cell \u001b[0;32mIn [16], line 7\u001b[0m\n\u001b[1;32m      5\u001b[0m eps \u001b[39m=\u001b[39m \u001b[39m1e-9\u001b[39m\n\u001b[1;32m      6\u001b[0m nBasis \u001b[39m=\u001b[39m GKP_nBasis(Delta, gamma, n_cut, sum_cutoff \u001b[39m=\u001b[39m \u001b[39m5\u001b[39m)\n\u001b[0;32m----> 7\u001b[0m res \u001b[39m=\u001b[39m \u001b[39m1\u001b[39m\u001b[39m-\u001b[39mnBasis\u001b[39m.\u001b[39;49mSDP_optimize_Recovery_numberBasis(eps\u001b[39m=\u001b[39;49meps)[\u001b[39m0\u001b[39m]\n\u001b[1;32m      8\u001b[0m SDP_lst\u001b[39m.\u001b[39mappend(res)\n\u001b[1;32m      9\u001b[0m \u001b[39mprint\u001b[39m(res)\n",
      "File \u001b[0;32m~/Liang/SDP/tests/test_0221/../../GKP_ampDamp.py:284\u001b[0m, in \u001b[0;36mGKP_nBasis.SDP_optimize_Recovery_numberBasis\u001b[0;34m(self, eps)\u001b[0m\n\u001b[1;32m    277\u001b[0m prob \u001b[39m=\u001b[39m cp\u001b[39m.\u001b[39mProblem(\n\u001b[1;32m    278\u001b[0m     cp\u001b[39m.\u001b[39mMaximize(cp\u001b[39m.\u001b[39mtrace(\u001b[39mself\u001b[39m\u001b[39m.\u001b[39m_K_forSDP()\u001b[39m@R\u001b[39m)),\n\u001b[1;32m    279\u001b[0m     constraints\n\u001b[1;32m    280\u001b[0m )\n\u001b[1;32m    283\u001b[0m \u001b[39m# optimization---')\u001b[39;00m\n\u001b[0;32m--> 284\u001b[0m prob\u001b[39m.\u001b[39;49msolve(eps\u001b[39m=\u001b[39;49meps)\n\u001b[1;32m    285\u001b[0m \u001b[39m#print('---end optimization---')\u001b[39;00m\n\u001b[1;32m    286\u001b[0m \u001b[39m# result choi matrix \u001b[39;00m\n\u001b[1;32m    287\u001b[0m \u001b[39m#choi = 1/2*cp.kron(A0,np.identity(2)) + cp.kron(A1, sigma1)+ cp.kron(A2, sigma2)+ cp.kron(A3, sigma3) \u001b[39;00m\n\u001b[1;32m    288\u001b[0m choi \u001b[39m=\u001b[39m \u001b[39mNone\u001b[39;00m\n",
      "File \u001b[0;32m~/miniconda3/lib/python3.9/site-packages/cvxpy/problems/problem.py:481\u001b[0m, in \u001b[0;36mProblem.solve\u001b[0;34m(self, *args, **kwargs)\u001b[0m\n\u001b[1;32m    479\u001b[0m \u001b[39melse\u001b[39;00m:\n\u001b[1;32m    480\u001b[0m     solve_func \u001b[39m=\u001b[39m Problem\u001b[39m.\u001b[39m_solve\n\u001b[0;32m--> 481\u001b[0m \u001b[39mreturn\u001b[39;00m solve_func(\u001b[39mself\u001b[39;49m, \u001b[39m*\u001b[39;49margs, \u001b[39m*\u001b[39;49m\u001b[39m*\u001b[39;49mkwargs)\n",
      "File \u001b[0;32m~/miniconda3/lib/python3.9/site-packages/cvxpy/problems/problem.py:1020\u001b[0m, in \u001b[0;36mProblem._solve\u001b[0;34m(self, solver, warm_start, verbose, gp, qcp, requires_grad, enforce_dpp, ignore_dpp, **kwargs)\u001b[0m\n\u001b[1;32m   1018\u001b[0m end \u001b[39m=\u001b[39m time\u001b[39m.\u001b[39mtime()\n\u001b[1;32m   1019\u001b[0m \u001b[39mself\u001b[39m\u001b[39m.\u001b[39m_solve_time \u001b[39m=\u001b[39m end \u001b[39m-\u001b[39m start\n\u001b[0;32m-> 1020\u001b[0m \u001b[39mself\u001b[39;49m\u001b[39m.\u001b[39;49munpack_results(solution, solving_chain, inverse_data)\n\u001b[1;32m   1021\u001b[0m \u001b[39mif\u001b[39;00m verbose:\n\u001b[1;32m   1022\u001b[0m     \u001b[39mprint\u001b[39m(_FOOTER)\n",
      "File \u001b[0;32m~/miniconda3/lib/python3.9/site-packages/cvxpy/problems/problem.py:1337\u001b[0m, in \u001b[0;36mProblem.unpack_results\u001b[0;34m(self, solution, chain, inverse_data)\u001b[0m\n\u001b[1;32m   1335\u001b[0m solution \u001b[39m=\u001b[39m chain\u001b[39m.\u001b[39minvert(solution, inverse_data)\n\u001b[1;32m   1336\u001b[0m \u001b[39mif\u001b[39;00m solution\u001b[39m.\u001b[39mstatus \u001b[39min\u001b[39;00m s\u001b[39m.\u001b[39mINACCURATE:\n\u001b[0;32m-> 1337\u001b[0m     warnings\u001b[39m.\u001b[39;49mwarn(\n\u001b[1;32m   1338\u001b[0m         \u001b[39m\"\u001b[39;49m\u001b[39mSolution may be inaccurate. Try another solver, \u001b[39;49m\u001b[39m\"\u001b[39;49m\n\u001b[1;32m   1339\u001b[0m         \u001b[39m\"\u001b[39;49m\u001b[39madjusting the solver settings, or solve with \u001b[39;49m\u001b[39m\"\u001b[39;49m\n\u001b[1;32m   1340\u001b[0m         \u001b[39m\"\u001b[39;49m\u001b[39mverbose=True for more information.\u001b[39;49m\u001b[39m\"\u001b[39;49m\n\u001b[1;32m   1341\u001b[0m     )\n\u001b[1;32m   1342\u001b[0m \u001b[39mif\u001b[39;00m solution\u001b[39m.\u001b[39mstatus \u001b[39m==\u001b[39m s\u001b[39m.\u001b[39mINFEASIBLE_OR_UNBOUNDED:\n\u001b[1;32m   1343\u001b[0m     warnings\u001b[39m.\u001b[39mwarn(INF_OR_UNB_MESSAGE)\n",
      "\u001b[0;31mUserWarning\u001b[0m: Solution may be inaccurate. Try another solver, adjusting the solver settings, or solve with verbose=True for more information."
     ]
    }
   ],
   "source": [
    "SDP_lst = []\n",
    "for gamma in gamma_lst:\n",
    "    n_cut = 40\n",
    "    i_cut = 10\n",
    "    eps = 1e-9\n",
    "    nBasis = GKP_nBasis(Delta, gamma, n_cut, sum_cutoff = 5)\n",
    "    res = 1-nBasis.SDP_optimize_Recovery_numberBasis(eps=eps)[0]\n",
    "    SDP_lst.append(res)\n",
    "    print(res)\n",
    "print('SDP_lst =',SDP_lst)"
   ]
  },
  {
   "cell_type": "markdown",
   "metadata": {},
   "source": [
    "compute transpose infidelity according to 1st and 2nd approximation."
   ]
  },
  {
   "cell_type": "code",
   "execution_count": null,
   "metadata": {},
   "outputs": [
    {
     "ename": "",
     "evalue": "",
     "output_type": "error",
     "traceback": [
      "\u001b[1;31mRunning cells with 'Python 3.9.12 ('base')' requires ipykernel package.\n",
      "\u001b[1;31mRun the following command to install 'ipykernel' into the Python environment. \n",
      "\u001b[1;31mCommand: 'conda install -n base ipykernel --update-deps --force-reinstall'"
     ]
    }
   ],
   "source": [
    "dimL=20\n",
    "cutoff = 5\n",
    "infid_approx_Ord1_lst = []\n",
    "infid_approx_Ord2_lst = []\n",
    "for gamma in gamma_lst:\n",
    "    ElmuBasis = GKP_ElmuBasis(Delta = Delta, gamma = gamma, m_sum_cutoff=20,M_sum_cutoff=5,l_cut=20)\n",
    "    # check\n",
    "    if 0:\n",
    "        ck = check_basis(ElmuBasis = ElmuBasis,nBasis = None)\n",
    "        ck.trM()\n",
    "    infid_approx_Ord1 = ElmuBasis.transpose_infid_approx(approxOrd=1)\n",
    "    infid_approx_Ord1_lst.append(infid_approx_Ord1)\n",
    "    infid_approx_Ord2 = ElmuBasis.transpose_infid_approx(approxOrd=2)\n",
    "    infid_approx_Ord2_lst.append(infid_approx_Ord2)\n",
    "    print(infid_approx_Ord1,infid_approx_Ord2)\n",
    "print('infid_approx_Ord1_lst =',infid_approx_Ord1_lst)\n",
    "print('infid_approx_Ord2_lst =',infid_approx_Ord2_lst)"
   ]
  },
  {
   "cell_type": "markdown",
   "metadata": {},
   "source": [
    "plot"
   ]
  },
  {
   "cell_type": "code",
   "execution_count": null,
   "metadata": {},
   "outputs": [
    {
     "ename": "",
     "evalue": "",
     "output_type": "error",
     "traceback": [
      "\u001b[1;31mRunning cells with 'Python 3.9.12 ('base')' requires ipykernel package.\n",
      "\u001b[1;31mRun the following command to install 'ipykernel' into the Python environment. \n",
      "\u001b[1;31mCommand: 'conda install -n base ipykernel --update-deps --force-reinstall'"
     ]
    }
   ],
   "source": [
    "import matplotlib.pyplot as plt\n",
    "import numpy as np\n",
    "gamma_lst = [0.0, 0.01, 0.02, 0.03, 0.04, 0.05, 0.06, 0.07, 0.08, 0.09, 0.1]\n",
    "infid_M_lst = np.array([0.0, 9.476819329279351e-11, 3.7231956406813538e-09, 4.583141000047419e-08, 3.0540574325055303e-07, 1.3797328034526046e-06, 4.7598675868565365e-06, 1.3471790333174916e-05, 3.27831956400404e-05, 7.085201620549153e-05, 0.00013921027968910593])\n",
    "infid_approx_Ord1_lst = np.array([0.001995347775538983, 0.0021124030862686104, 0.002230870656006856, 0.00235053015274043, 0.0024711663055886493, 0.002592569629616953, 0.002714537036030113, 0.0028368723365187493, 0.0029593866505033227, 0.003081898723858082, 0.003204235167434118])\n",
    "infid_approx_Ord2_lst = np.array([0.001995347775538983, 0.002134554824820004, 0.0023253172414005895, 0.00257648292792944, 0.002897297028487677, 0.003297371500504916, 0.0037866481764171145, 0.004375357219741333, 0.00507397274612072, 0.005893167200863891, 0.006843765879151765])\n",
    "SDP_lst =[-7.455298152159173e-07, 0.0006850875097352827, 0.0014938061324565322, 0.0024470025832702413, 0.0035470477659537147, 0.004812086081860345, 0.0062479639067928305, 0.007864791809512939, 0.009677617842346775, 0.011689874010322954, 0.013915096031704266]\n",
    "gamma = gamma_lst[1:]\n",
    "SDP = SDP_lst[1:]\n",
    "trans = infid_M_lst[1:]\n",
    "trans_1st = infid_approx_Ord1_lst[1:]\n",
    "trans_2st = infid_approx_Ord2_lst[1:]\n",
    "\n",
    "plt.plot(gamma, trans,label=\"trans\")\n",
    "plt.plot(gamma, trans/3,label=\"1/3*trans\")\n",
    "plt.plot(gamma, SDP,label=\"SDP\")\n",
    "plt.plot(gamma, trans_1st,label=\"approx 1st order\")\n",
    "plt.plot(gamma, trans_2st,label=\"approx 2nd order\")\n",
    "\n",
    "plt.xlabel('gamma')\n",
    "plt.ylabel('infidelity')\n",
    "plt.title('Delta = 0.481')\n",
    "plt.legend(loc = 'lower right')\n",
    "plt.yscale('log')\n",
    "plt.xscale('log')\n",
    "plt.show()"
   ]
  }
 ],
 "metadata": {
  "kernelspec": {
   "display_name": "Python 3.8.8 ('base')",
   "language": "python",
   "name": "python3"
  },
  "language_info": {
   "codemirror_mode": {
    "name": "ipython",
    "version": 3
   },
   "file_extension": ".py",
   "mimetype": "text/x-python",
   "name": "python",
   "nbconvert_exporter": "python",
   "pygments_lexer": "ipython3",
   "version": "3.8.8"
  },
  "orig_nbformat": 4,
  "vscode": {
   "interpreter": {
    "hash": "651dcc853ead57c5e7bf768e4c673fd7c2c98c51a9793aed9412e5eb8a1bb026"
   }
  }
 },
 "nbformat": 4,
 "nbformat_minor": 2
}
